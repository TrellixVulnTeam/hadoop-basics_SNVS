{
 "cells": [
  {
   "cell_type": "code",
   "execution_count": 1,
   "id": "75732d75-ef99-4bd3-ae48-57b18e02449b",
   "metadata": {},
   "outputs": [],
   "source": [
    "from pyspark import SparkConf, SparkContext\n",
    "from pyspark.sql import SparkSession"
   ]
  },
  {
   "cell_type": "code",
   "execution_count": 2,
   "id": "bd4be225-5844-4ac0-96db-2acd994069a2",
   "metadata": {},
   "outputs": [],
   "source": [
    "def loadMovieNames():\n",
    "    movie_names = {}\n",
    "    with open('/Users/ayusman/migrate/hadooop/hadoop-basics/ml-100k/u.item', encoding = \"ISO-8859-1\") as f:\n",
    "        for line in f:\n",
    "            fields = line.split('|')\n",
    "            movie_names[int(fields[0])] = fields[1]\n",
    "    \n",
    "    return  movie_names"
   ]
  },
  {
   "cell_type": "code",
   "execution_count": 3,
   "id": "d97a2c2d-7b6f-4eba-9171-13aed3ab1a87",
   "metadata": {},
   "outputs": [],
   "source": [
    "def parseInput(line):\n",
    "    fields = line.split()\n",
    "    return (int (fields[1]), float (fields[2]), 1.0)"
   ]
  },
  {
   "cell_type": "code",
   "execution_count": 4,
   "id": "24d0c4a2-b9ed-45c3-a809-5eafa5ba19cc",
   "metadata": {},
   "outputs": [
    {
     "name": "stderr",
     "output_type": "stream",
     "text": [
      "Using Spark's default log4j profile: org/apache/spark/log4j-defaults.properties\n",
      "Setting default log level to \"WARN\".\n",
      "To adjust logging level use sc.setLogLevel(newLevel). For SparkR, use setLogLevel(newLevel).\n",
      "22/01/27 14:21:06 WARN NativeCodeLoader: Unable to load native-hadoop library for your platform... using builtin-java classes where applicable\n",
      "22/01/27 14:21:07 WARN Utils: Service 'SparkUI' could not bind on port 4040. Attempting port 4041.\n"
     ]
    }
   ],
   "source": [
    "# setting spark configuration file and spark context\n",
    "conf = SparkConf().setAppName(\"worst movies\")\n",
    "sc = SparkContext(conf=conf)"
   ]
  },
  {
   "cell_type": "code",
   "execution_count": 5,
   "id": "aeb90b9c-13ed-4360-89d5-c3ea5d1c838a",
   "metadata": {},
   "outputs": [],
   "source": [
    "# getting movie names\n",
    "movieNames = loadMovieNames()"
   ]
  },
  {
   "cell_type": "code",
   "execution_count": 6,
   "id": "87274981-de45-4cc8-9818-446b4f08b98e",
   "metadata": {},
   "outputs": [],
   "source": [
    "lines = sc.textFile('/Users/ayusman/migrate/hadooop/hadoop-basics/ml-100k/u.data')"
   ]
  },
  {
   "cell_type": "code",
   "execution_count": 7,
   "id": "7fb7250f-7bed-4ac4-a639-f83c4ee9e739",
   "metadata": {},
   "outputs": [],
   "source": [
    "# convert to (movieID, (rating,1.0)) which is and RDD\n",
    "movieRatings = lines.map(parseInput)"
   ]
  },
  {
   "cell_type": "code",
   "execution_count": 106,
   "id": "4b8f8525-897a-4677-8dcd-4a1ec854567b",
   "metadata": {},
   "outputs": [
    {
     "data": {
      "text/plain": [
       "[(242, 3.0, 1.0), (302, 3.0, 1.0)]"
      ]
     },
     "execution_count": 106,
     "metadata": {},
     "output_type": "execute_result"
    }
   ],
   "source": [
    "movieRatings.take(2)"
   ]
  },
  {
   "cell_type": "code",
   "execution_count": 107,
   "id": "d7300dde-f7cd-4232-ae37-af3b7cc4d7dc",
   "metadata": {},
   "outputs": [
    {
     "data": {
      "text/plain": [
       "[(242, 3.0, 1.0), (302, 3.0, 1.0), (377, 1.0, 1.0)]"
      ]
     },
     "execution_count": 107,
     "metadata": {},
     "output_type": "execute_result"
    }
   ],
   "source": [
    "movieRatings.sortBy(lambda x:x[0])\n",
    "movieRatings.take(3)\n"
   ]
  },
  {
   "cell_type": "code",
   "execution_count": 94,
   "id": "3e1ec735-1b45-4d52-88d4-06acde128d98",
   "metadata": {},
   "outputs": [],
   "source": [
    "# Reduce to (movieID, (sumofRating, toalRating))\n",
    "ratingTotalCounts = movieRatings.map(lambda l:(l[0], (l[1], l[2]))).reduceByKey(lambda movie1, movie2: (movie1[0]+movie2[0], (movie1[1]+movie2[1])))"
   ]
  },
  {
   "cell_type": "code",
   "execution_count": 108,
   "id": "d02da845-9b50-4d54-b61f-a41d51865d7d",
   "metadata": {},
   "outputs": [
    {
     "name": "stderr",
     "output_type": "stream",
     "text": [
      "/opt/homebrew/lib/python3.9/site-packages/pyspark/python/lib/pyspark.zip/pyspark/shuffle.py:60: UserWarning: Please install psutil to have better support with spilling\n"
     ]
    },
    {
     "data": {
      "text/plain": [
       "[(242, (467.0, 117.0)), (302, (1236.0, 297.0))]"
      ]
     },
     "execution_count": 108,
     "metadata": {},
     "output_type": "execute_result"
    }
   ],
   "source": [
    "ratingTotalCounts.take(2)"
   ]
  },
  {
   "cell_type": "code",
   "execution_count": 111,
   "id": "ca696a2d-fe58-4c71-b62b-be4fbf4f2d9c",
   "metadata": {},
   "outputs": [],
   "source": [
    "averagePopularRating = ratingTotalCounts.filter(lambda x: x[1][1] > 20)"
   ]
  },
  {
   "cell_type": "code",
   "execution_count": 113,
   "id": "ca7d17a6-b841-4291-bd87-39c9ddb6d07e",
   "metadata": {},
   "outputs": [
    {
     "data": {
      "text/plain": [
       "[(242, 3.9914529914529915), (302, 4.161616161616162)]"
      ]
     },
     "execution_count": 113,
     "metadata": {},
     "output_type": "execute_result"
    }
   ],
   "source": [
    "# Map tp movieID and average rating\n",
    "averageRating = averagePopularRating.mapValues(lambda totalAndCount: totalAndCount[0]/totalAndCount[1])\n",
    "type(averageRating)\n",
    "averageRating.take(2)"
   ]
  },
  {
   "cell_type": "code",
   "execution_count": 114,
   "id": "2779fd20-11b4-4f5c-8825-78f2f8e0d65e",
   "metadata": {},
   "outputs": [
    {
     "name": "stderr",
     "output_type": "stream",
     "text": [
      "/opt/homebrew/lib/python3.9/site-packages/pyspark/python/lib/pyspark.zip/pyspark/shuffle.py:60: UserWarning: Please install psutil to have better support with spilling\n"
     ]
    }
   ],
   "source": [
    "# sort by average rating\n",
    "sortedAverageRating = averageRating.sortBy(lambda x: x[1])"
   ]
  },
  {
   "cell_type": "code",
   "execution_count": 115,
   "id": "a163e2f7-721d-454f-8f04-d89e63dde52d",
   "metadata": {},
   "outputs": [
    {
     "data": {
      "text/plain": [
       "[(758, 1.7142857142857142),\n",
       " (457, 1.7407407407407407),\n",
       " (688, 1.8409090909090908),\n",
       " (368, 1.903225806451613),\n",
       " (1215, 1.9333333333333333),\n",
       " (743, 1.9487179487179487),\n",
       " (890, 1.9534883720930232),\n",
       " (375, 1.9565217391304348),\n",
       " (1037, 2.0),\n",
       " (564, 2.037037037037037)]"
      ]
     },
     "execution_count": 115,
     "metadata": {},
     "output_type": "execute_result"
    }
   ],
   "source": [
    "# these are the worst movies according to their average ratings\n",
    "sortedAverageRating.take(10)"
   ]
  },
  {
   "cell_type": "code",
   "execution_count": null,
   "id": "84c30775-c899-4f85-a5d1-6b7c8ce5cd1d",
   "metadata": {},
   "outputs": [],
   "source": []
  },
  {
   "cell_type": "code",
   "execution_count": null,
   "id": "e4e75def-3796-4091-a380-d160360ac362",
   "metadata": {},
   "outputs": [],
   "source": []
  }
 ],
 "metadata": {
  "kernelspec": {
   "display_name": "Python 3 (ipykernel)",
   "language": "python",
   "name": "python3"
  },
  "language_info": {
   "codemirror_mode": {
    "name": "ipython",
    "version": 3
   },
   "file_extension": ".py",
   "mimetype": "text/x-python",
   "name": "python",
   "nbconvert_exporter": "python",
   "pygments_lexer": "ipython3",
   "version": "3.9.10"
  }
 },
 "nbformat": 4,
 "nbformat_minor": 5
}
