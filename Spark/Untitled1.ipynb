{
 "cells": [
  {
   "cell_type": "code",
   "execution_count": 1,
   "id": "5cf3de7c-d09f-4743-b2f3-0376371f2af0",
   "metadata": {},
   "outputs": [],
   "source": [
    "import pyspark"
   ]
  },
  {
   "cell_type": "code",
   "execution_count": 2,
   "id": "269442e4-94f5-4326-a544-c93bc336816e",
   "metadata": {},
   "outputs": [],
   "source": [
    "from pyspark.sql import SparkSession\n"
   ]
  },
  {
   "cell_type": "code",
   "execution_count": 5,
   "id": "4cd62e7b-f70e-46cb-bad9-df861776c58b",
   "metadata": {},
   "outputs": [],
   "source": [
    "sc = SparkSession.builder.appName(\"Session 1\").getOrCreate()"
   ]
  },
  {
   "cell_type": "code",
   "execution_count": 9,
   "id": "c2624a0e-2c22-4f4c-b75c-b1b5c2a9d1ad",
   "metadata": {},
   "outputs": [],
   "source": [
    "file = './data/basic.csv'\n",
    "df = sc.read.csv(file, header=True)\n"
   ]
  },
  {
   "cell_type": "code",
   "execution_count": 10,
   "id": "93b60ec6-c589-4005-9b9f-fd171bb54e14",
   "metadata": {},
   "outputs": [
    {
     "name": "stdout",
     "output_type": "stream",
     "text": [
      "+----+-----------------+-------------------+---+----+----+----+\n",
      "|Sno.|             Name|            Address|Age| _c4| _c5| _c6|\n",
      "+----+-----------------+-------------------+---+----+----+----+\n",
      "|   1|Ayushman Adhikari|Fultekra, Nepalgunj| 25|null|null|null|\n",
      "|   2|             Adam|          Australia| 31|null|null|null|\n",
      "|   3|             Smit|             France| 34|null|null|null|\n",
      "|   4|              Neo|                USA| 22|null|null|null|\n",
      "|   5|           Pankaj|Fultekra, Nepalgunj| 23|null|null|null|\n",
      "+----+-----------------+-------------------+---+----+----+----+\n",
      "\n"
     ]
    },
    {
     "name": "stderr",
     "output_type": "stream",
     "text": [
      "22/01/25 14:39:55 WARN CSVHeaderChecker: CSV header does not conform to the schema.\n",
      " Header: Sno., Name, Address, Age, , , \n",
      " Schema: Sno., Name, Address, Age, _c4, _c5, _c6\n",
      "Expected: _c4 but found: \n",
      "CSV file: file:///Users/ayusman/migrate/hadoop/Spark/data/basic.csv\n"
     ]
    }
   ],
   "source": [
    "df.show()"
   ]
  },
  {
   "cell_type": "code",
   "execution_count": null,
   "id": "11178121-b26b-4165-b6ba-97743390bc6c",
   "metadata": {},
   "outputs": [],
   "source": []
  }
 ],
 "metadata": {
  "kernelspec": {
   "display_name": "Python 3 (ipykernel)",
   "language": "python",
   "name": "python3"
  },
  "language_info": {
   "codemirror_mode": {
    "name": "ipython",
    "version": 3
   },
   "file_extension": ".py",
   "mimetype": "text/x-python",
   "name": "python",
   "nbconvert_exporter": "python",
   "pygments_lexer": "ipython3",
   "version": "3.9.10"
  }
 },
 "nbformat": 4,
 "nbformat_minor": 5
}
