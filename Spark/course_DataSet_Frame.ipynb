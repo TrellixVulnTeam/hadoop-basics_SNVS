{
 "cells": [
  {
   "cell_type": "code",
   "execution_count": 8,
   "id": "e9bcfde7-f419-49aa-81b4-8c071c9c2ea3",
   "metadata": {},
   "outputs": [],
   "source": [
    "from pyspark.sql import SparkSession, Row, functions\n",
    "import os"
   ]
  },
  {
   "cell_type": "code",
   "execution_count": 2,
   "id": "625fd311-3ee3-4ecb-88c2-4ddf4c8680ec",
   "metadata": {},
   "outputs": [],
   "source": [
    "def loadMovieNames():\n",
    "    movie_names = {}\n",
    "    with open('/Users/ayusman/migrate/hadooop/hadoop-basics/ml-100k/u.item', encoding = \"ISO-8859-1\") as f:\n",
    "        for line in f:\n",
    "            fields = line.split('|')\n",
    "            movie_names[int(fields[0])] = fields[1]\n",
    "    \n",
    "    return  movie_names"
   ]
  },
  {
   "cell_type": "code",
   "execution_count": 3,
   "id": "43bcd689-69b5-4f72-ac10-13f518bfcf04",
   "metadata": {},
   "outputs": [],
   "source": [
    "def parseInput(line):\n",
    "    fields = line.split()\n",
    "    return (int (fields[1]), float (fields[2]), 1.0)"
   ]
  },
  {
   "cell_type": "code",
   "execution_count": 5,
   "id": "e303c4ad-1105-45e4-8a1f-7ed34f8f96fe",
   "metadata": {},
   "outputs": [
    {
     "name": "stderr",
     "output_type": "stream",
     "text": [
      "22/01/27 18:08:49 WARN Utils: Your hostname, Ayushmans-MacBook-Air.local resolves to a loopback address: 127.0.0.1; using 192.168.1.236 instead (on interface en0)\n",
      "22/01/27 18:08:49 WARN Utils: Set SPARK_LOCAL_IP if you need to bind to another address\n",
      "Using Spark's default log4j profile: org/apache/spark/log4j-defaults.properties\n",
      "Setting default log level to \"WARN\".\n",
      "To adjust logging level use sc.setLogLevel(newLevel). For SparkR, use setLogLevel(newLevel).\n",
      "22/01/27 18:08:49 WARN NativeCodeLoader: Unable to load native-hadoop library for your platform... using builtin-java classes where applicable\n",
      "22/01/27 18:08:50 WARN Utils: Service 'SparkUI' could not bind on port 4040. Attempting port 4041.\n",
      "22/01/27 18:08:50 WARN Utils: Service 'SparkUI' could not bind on port 4041. Attempting port 4042.\n"
     ]
    }
   ],
   "source": [
    "sparkSession = SparkSession.builder.appName(\"spark dataset\").getOrCreate()"
   ]
  },
  {
   "cell_type": "code",
   "execution_count": 6,
   "id": "f210164d-774c-48fd-93fb-a171a2513893",
   "metadata": {},
   "outputs": [],
   "source": [
    "movieNames = loadMovieNames()"
   ]
  },
  {
   "cell_type": "code",
   "execution_count": 10,
   "id": "44a5da96-019b-49cf-9616-4defbea8729f",
   "metadata": {},
   "outputs": [
    {
     "data": {
      "text/plain": [
       "'/Users/ayusman/migrate/hadooop/hadoop-basics/Spark'"
      ]
     },
     "execution_count": 10,
     "metadata": {},
     "output_type": "execute_result"
    }
   ],
   "source": [
    "os.getcwd()"
   ]
  },
  {
   "cell_type": "code",
   "execution_count": 11,
   "id": "58a3a72b-07c5-497e-8538-43f1fcc9dda2",
   "metadata": {},
   "outputs": [],
   "source": [
    "# get the raw data\n",
    "lines = sparkSession.sparkContext.textFile('/Users/ayusman/migrate/hadooop/hadoop-basics/ml-100k/u.data')"
   ]
  },
  {
   "cell_type": "code",
   "execution_count": 12,
   "id": "68f9122c-989e-4fb7-b886-d3ce45ac6b7b",
   "metadata": {},
   "outputs": [],
   "source": [
    "movies = lines.map(parseInput)"
   ]
  },
  {
   "cell_type": "code",
   "execution_count": 14,
   "id": "5064804d-77e3-4178-ad36-ca71b59a56d2",
   "metadata": {},
   "outputs": [],
   "source": [
    "movieDataset = sparkSession.createDataFrame(movies)"
   ]
  },
  {
   "cell_type": "code",
   "execution_count": 20,
   "id": "dec2b5d4-e55e-4453-9afb-afc1c19965a6",
   "metadata": {},
   "outputs": [
    {
     "name": "stdout",
     "output_type": "stream",
     "text": [
      "+----+---+---+\n",
      "|  _1| _2| _3|\n",
      "+----+---+---+\n",
      "| 242|3.0|1.0|\n",
      "| 302|3.0|1.0|\n",
      "| 377|1.0|1.0|\n",
      "|  51|2.0|1.0|\n",
      "| 346|1.0|1.0|\n",
      "| 474|4.0|1.0|\n",
      "| 265|2.0|1.0|\n",
      "| 465|5.0|1.0|\n",
      "| 451|3.0|1.0|\n",
      "|  86|3.0|1.0|\n",
      "| 257|2.0|1.0|\n",
      "|1014|5.0|1.0|\n",
      "| 222|5.0|1.0|\n",
      "|  40|3.0|1.0|\n",
      "|  29|3.0|1.0|\n",
      "| 785|3.0|1.0|\n",
      "| 387|5.0|1.0|\n",
      "| 274|2.0|1.0|\n",
      "|1042|4.0|1.0|\n",
      "|1184|2.0|1.0|\n",
      "+----+---+---+\n",
      "only showing top 20 rows\n",
      "\n"
     ]
    }
   ],
   "source": [
    "movieDataset.show()"
   ]
  },
  {
   "cell_type": "code",
   "execution_count": 22,
   "id": "28d4d58a-ac62-446b-b5b6-85d9b289a264",
   "metadata": {},
   "outputs": [],
   "source": [
    "#compute average rating for each movieID\n",
    "averageRating = movieDataset.groupBy(\"_1\").avg(\"_2\")"
   ]
  },
  {
   "cell_type": "code",
   "execution_count": 23,
   "id": "1253aa52-c747-450f-994a-7b6f7b0c4c39",
   "metadata": {},
   "outputs": [
    {
     "data": {
      "text/plain": [
       "[Row(_1=474, avg(_2)=4.252577319587629),\n",
       " Row(_1=29, avg(_2)=2.6666666666666665),\n",
       " Row(_1=26, avg(_2)=3.452054794520548)]"
      ]
     },
     "execution_count": 23,
     "metadata": {},
     "output_type": "execute_result"
    }
   ],
   "source": [
    "averageRating.take(3)"
   ]
  },
  {
   "cell_type": "code",
   "execution_count": 24,
   "id": "75c93f1e-3206-4974-8ffa-36abe8251404",
   "metadata": {},
   "outputs": [],
   "source": [
    "#compute the count\n",
    "counts = movieDataset.groupBy(\"_1\").count()"
   ]
  },
  {
   "cell_type": "code",
   "execution_count": null,
   "id": "072ccd6f-2f30-4036-b3e7-d164fc06c18d",
   "metadata": {},
   "outputs": [],
   "source": [
    "counts.take"
   ]
  }
 ],
 "metadata": {
  "kernelspec": {
   "display_name": "Python 3.9.10 64-bit",
   "language": "python",
   "name": "python3910jvsc74a57bd0b0fa6594d8f4cbf19f97940f81e996739fb7646882a419484c72d19e05852a7e"
  },
  "language_info": {
   "codemirror_mode": {
    "name": "ipython",
    "version": 3
   },
   "file_extension": ".py",
   "mimetype": "text/x-python",
   "name": "python",
   "nbconvert_exporter": "python",
   "pygments_lexer": "ipython3",
   "version": "3.9.10"
  }
 },
 "nbformat": 4,
 "nbformat_minor": 5
}
