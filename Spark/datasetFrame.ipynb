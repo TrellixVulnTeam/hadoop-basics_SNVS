{
 "cells": [
  {
   "cell_type": "markdown",
   "id": "2f7c79e7-77fe-4525-b922-ea08e1573aba",
   "metadata": {},
   "source": [
    "### Creating a dataset from a sequence\n"
   ]
  },
  {
   "cell_type": "code",
   "execution_count": 1,
   "id": "c6194ce7-f615-4a62-bad1-b268285b8bee",
   "metadata": {},
   "outputs": [
    {
     "data": {
      "text/plain": [
       "Intitializing Scala interpreter ..."
      ]
     },
     "metadata": {},
     "output_type": "display_data"
    },
    {
     "data": {
      "text/plain": [
       "Spark Web UI available at http://192.168.1.2:4040\n",
       "SparkContext available as 'sc' (version = 3.2.1, master = local[*], app id = local-1643260998519)\n",
       "SparkSession available as 'spark'\n"
      ]
     },
     "metadata": {},
     "output_type": "display_data"
    }
   ],
   "source": [
    "// "
   ]
  },
  {
   "cell_type": "code",
   "execution_count": 3,
   "id": "578885d8-4c77-4dc1-a496-a46c126e69f1",
   "metadata": {},
   "outputs": [
    {
     "data": {
      "text/plain": [
       "ds1: org.apache.spark.sql.Dataset[Int] = [value: int]\n"
      ]
     },
     "execution_count": 3,
     "metadata": {},
     "output_type": "execute_result"
    }
   ],
   "source": [
    "val ds1 = Seq(1,2,3,4).toDS()"
   ]
  },
  {
   "cell_type": "markdown",
   "id": "b2d3121f-ac80-4df0-9d85-8a92ce862b7e",
   "metadata": {},
   "source": [
    "### Create a dataset from sequence of case classess"
   ]
  },
  {
   "cell_type": "code",
   "execution_count": 4,
   "id": "57026c75-b949-411f-aa67-2ec6bb8e8892",
   "metadata": {},
   "outputs": [
    {
     "data": {
      "text/plain": [
       "defined class Person\n"
      ]
     },
     "execution_count": 4,
     "metadata": {},
     "output_type": "execute_result"
    }
   ],
   "source": [
    "case class Person(var name :String, var age: Int)"
   ]
  },
  {
   "cell_type": "code",
   "execution_count": 5,
   "id": "eac7e4e9-f6ba-440a-bfba-b6fb4c0fb067",
   "metadata": {},
   "outputs": [
    {
     "name": "stdout",
     "output_type": "stream",
     "text": [
      "+------+---+\n",
      "|  name|age|\n",
      "+------+---+\n",
      "|   Max| 33|\n",
      "|  Adam| 32|\n",
      "|Muller| 62|\n",
      "+------+---+\n",
      "\n"
     ]
    },
    {
     "data": {
      "text/plain": [
       "ds: org.apache.spark.sql.Dataset[Person] = [name: string, age: int]\n"
      ]
     },
     "execution_count": 5,
     "metadata": {},
     "output_type": "execute_result"
    }
   ],
   "source": [
    "val ds = Seq(Person(\"Max\", 33), Person(\"Adam\", 32), Person(\"Muller\", 62)).toDS()\n",
    "ds.show()"
   ]
  },
  {
   "cell_type": "markdown",
   "id": "1e211982-8085-4f24-8a4b-698e77090dd0",
   "metadata": {},
   "source": [
    "### Create a dataset from RDD"
   ]
  },
  {
   "cell_type": "code",
   "execution_count": null,
   "id": "cfc44dc4-4075-4fd1-a176-847db5747a23",
   "metadata": {},
   "outputs": [],
   "source": [
    "val rdd = sc.parallelize(Seq((1, \"Spark\"), (2, \"Databricks\")))\n",
    "val langDS = rdd.toDS()"
   ]
  },
  {
   "cell_type": "code",
   "execution_count": null,
   "id": "2a3f172e-3f3d-4dc4-a95d-bcb11743a443",
   "metadata": {},
   "outputs": [],
   "source": [
    "langDS.show()"
   ]
  },
  {
   "cell_type": "markdown",
   "id": "26f0fddc-4d94-45ce-ab83-2fef296c9557",
   "metadata": {},
   "source": [
    "#### Create a dataset from Dataframe"
   ]
  },
  {
   "cell_type": "code",
   "execution_count": 28,
   "id": "b7fd6e50-0442-40a3-b269-f53c9bcda998",
   "metadata": {},
   "outputs": [],
   "source": [
    "// You can call df.as[SomeCaseClass] to convert the DataFrame to a Dataset.\n",
    "// df.as[case_class]"
   ]
  },
  {
   "cell_type": "code",
   "execution_count": 26,
   "id": "6a674f6e-f386-4328-9635-b8361f5976c6",
   "metadata": {},
   "outputs": [
    {
     "name": "stdout",
     "output_type": "stream",
     "text": [
      "+----+------------+------------+\n",
      "|name|foundingYear|numEmployees|\n",
      "+----+------------+------------+\n",
      "| ABC|        1998|         310|\n",
      "| XYZ|        1983|         904|\n",
      "+----+------------+------------+\n",
      "only showing top 2 rows\n",
      "\n"
     ]
    },
    {
     "data": {
      "text/plain": [
       "defined class Company\n",
       "inpSeq: Seq[Company] = List(Company(ABC,1998,310), Company(XYZ,1983,904), Company(NOP,2005,83))\n",
       "companyDF: org.apache.spark.sql.DataFrame = [name: string, foundingYear: int ... 1 more field]\n"
      ]
     },
     "execution_count": 26,
     "metadata": {},
     "output_type": "execute_result"
    }
   ],
   "source": [
    "case class Company(name: String, foundingYear: Int, numEmployees: Int)\n",
    "val inpSeq = Seq(Company(\"ABC\", 1998, 310), Company(\"XYZ\", 1983, 904), Company(\"NOP\", 2005, 83))\n",
    "val companyDF = inpSeq.toDF()\n",
    "companyDF.show(2)"
   ]
  },
  {
   "cell_type": "code",
   "execution_count": 27,
   "id": "54f4b161-66c1-42a2-9c52-7cda375742d8",
   "metadata": {},
   "outputs": [
    {
     "name": "stdout",
     "output_type": "stream",
     "text": [
      "+----+------------+------------+\n",
      "|name|foundingYear|numEmployees|\n",
      "+----+------------+------------+\n",
      "| ABC|        1998|         310|\n",
      "| XYZ|        1983|         904|\n",
      "+----+------------+------------+\n",
      "only showing top 2 rows\n",
      "\n"
     ]
    },
    {
     "data": {
      "text/plain": [
       "companyDS: org.apache.spark.sql.Dataset[Company] = [name: string, foundingYear: int ... 1 more field]\n"
      ]
     },
     "execution_count": 27,
     "metadata": {},
     "output_type": "execute_result"
    }
   ],
   "source": [
    "val companyDS = companyDF.as[Company]\n",
    "companyDS.show(2)"
   ]
  },
  {
   "cell_type": "code",
   "execution_count": null,
   "id": "5ae77b82-f851-420c-b69e-27b6ac670e5d",
   "metadata": {},
   "outputs": [],
   "source": [
    "// we can also convert a DF into DS by only specifying the input types \n",
    "val companyDS2 = companyDF.as[(Int, )]"
   ]
  },
  {
   "cell_type": "code",
   "execution_count": null,
   "id": "856adce0-0ee3-4653-bdeb-ed47124517b6",
   "metadata": {},
   "outputs": [],
   "source": []
  },
  {
   "cell_type": "code",
   "execution_count": null,
   "id": "19902baf-230d-4c4e-8938-b5d067e6ce59",
   "metadata": {},
   "outputs": [],
   "source": []
  }
 ],
 "metadata": {
  "kernelspec": {
   "display_name": "spylon-kernel",
   "language": "scala",
   "name": "spylon-kernel"
  },
  "language_info": {
   "codemirror_mode": "text/x-scala",
   "file_extension": ".scala",
   "help_links": [
    {
     "text": "MetaKernel Magics",
     "url": "https://metakernel.readthedocs.io/en/latest/source/README.html"
    }
   ],
   "mimetype": "text/x-scala",
   "name": "scala",
   "pygments_lexer": "scala",
   "version": "0.4.1"
  }
 },
 "nbformat": 4,
 "nbformat_minor": 5
}
