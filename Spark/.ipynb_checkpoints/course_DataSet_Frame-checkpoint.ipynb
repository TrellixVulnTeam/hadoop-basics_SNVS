{
 "cells": [
  {
   "cell_type": "code",
   "execution_count": 1,
   "id": "e9bcfde7-f419-49aa-81b4-8c071c9c2ea3",
   "metadata": {},
   "outputs": [],
   "source": [
    "from pyspark.sql import SparkSession, Row, functions\n",
    "import os"
   ]
  },
  {
   "cell_type": "code",
   "execution_count": 2,
   "id": "625fd311-3ee3-4ecb-88c2-4ddf4c8680ec",
   "metadata": {},
   "outputs": [],
   "source": [
    "def loadMovieNames():\n",
    "    movie_names = {}\n",
    "    with open('/Users/ayusman/migrate/hadooop/hadoop-basics/ml-100k/u.item', encoding = \"ISO-8859-1\") as f:\n",
    "        for line in f:\n",
    "            fields = line.split('|')\n",
    "            movie_names[int(fields[0])] = fields[1]\n",
    "    \n",
    "    return  movie_names"
   ]
  },
  {
   "cell_type": "code",
   "execution_count": 3,
   "id": "43bcd689-69b5-4f72-ac10-13f518bfcf04",
   "metadata": {},
   "outputs": [],
   "source": [
    "def parseInput(line):\n",
    "    fields = line.split()\n",
    "    return Row(int (fields[1]), float (fields[2]), 1.0)"
   ]
  },
  {
   "cell_type": "code",
   "execution_count": 4,
   "id": "e303c4ad-1105-45e4-8a1f-7ed34f8f96fe",
   "metadata": {},
   "outputs": [
    {
     "name": "stderr",
     "output_type": "stream",
     "text": [
      "Using Spark's default log4j profile: org/apache/spark/log4j-defaults.properties\n",
      "Setting default log level to \"WARN\".\n",
      "To adjust logging level use sc.setLogLevel(newLevel). For SparkR, use setLogLevel(newLevel).\n",
      "22/01/28 13:16:01 WARN NativeCodeLoader: Unable to load native-hadoop library for your platform... using builtin-java classes where applicable\n",
      "22/01/28 13:16:02 WARN Utils: Service 'SparkUI' could not bind on port 4040. Attempting port 4041.\n",
      "22/01/28 13:16:02 WARN Utils: Service 'SparkUI' could not bind on port 4041. Attempting port 4042.\n"
     ]
    }
   ],
   "source": [
    "sparkSession = SparkSession.builder.appName(\"spark dataset\").getOrCreate()"
   ]
  },
  {
   "cell_type": "code",
   "execution_count": 5,
   "id": "f210164d-774c-48fd-93fb-a171a2513893",
   "metadata": {},
   "outputs": [],
   "source": [
    "#movieNames dictionary\n",
    "movieNames = loadMovieNames()"
   ]
  },
  {
   "cell_type": "code",
   "execution_count": 6,
   "id": "44a5da96-019b-49cf-9616-4defbea8729f",
   "metadata": {},
   "outputs": [
    {
     "data": {
      "text/plain": [
       "'/Users/ayusman/migrate/hadooop/hadoop-basics/Spark'"
      ]
     },
     "execution_count": 6,
     "metadata": {},
     "output_type": "execute_result"
    }
   ],
   "source": [
    "os.getcwd()"
   ]
  },
  {
   "cell_type": "code",
   "execution_count": 7,
   "id": "58a3a72b-07c5-497e-8538-43f1fcc9dda2",
   "metadata": {},
   "outputs": [],
   "source": [
    "# get the raw data\n",
    "lines = sparkSession.sparkContext.textFile('/Users/ayusman/migrate/hadooop/hadoop-basics/ml-100k/u.data')"
   ]
  },
  {
   "cell_type": "code",
   "execution_count": 8,
   "id": "68f9122c-989e-4fb7-b886-d3ce45ac6b7b",
   "metadata": {},
   "outputs": [],
   "source": [
    "#converting to RDD of raw data\n",
    "movies = lines.map(parseInput)"
   ]
  },
  {
   "cell_type": "code",
   "execution_count": 9,
   "id": "5064804d-77e3-4178-ad36-ca71b59a56d2",
   "metadata": {},
   "outputs": [],
   "source": [
    "# creating dataframe/dataset with that raw data\n",
    "movieDataset = sparkSession.createDataFrame(movies)"
   ]
  },
  {
   "cell_type": "code",
   "execution_count": 10,
   "id": "dec2b5d4-e55e-4453-9afb-afc1c19965a6",
   "metadata": {},
   "outputs": [
    {
     "name": "stdout",
     "output_type": "stream",
     "text": [
      "+----+---+---+\n",
      "|  _1| _2| _3|\n",
      "+----+---+---+\n",
      "| 242|3.0|1.0|\n",
      "| 302|3.0|1.0|\n",
      "| 377|1.0|1.0|\n",
      "|  51|2.0|1.0|\n",
      "| 346|1.0|1.0|\n",
      "| 474|4.0|1.0|\n",
      "| 265|2.0|1.0|\n",
      "| 465|5.0|1.0|\n",
      "| 451|3.0|1.0|\n",
      "|  86|3.0|1.0|\n",
      "| 257|2.0|1.0|\n",
      "|1014|5.0|1.0|\n",
      "| 222|5.0|1.0|\n",
      "|  40|3.0|1.0|\n",
      "|  29|3.0|1.0|\n",
      "| 785|3.0|1.0|\n",
      "| 387|5.0|1.0|\n",
      "| 274|2.0|1.0|\n",
      "|1042|4.0|1.0|\n",
      "|1184|2.0|1.0|\n",
      "+----+---+---+\n",
      "only showing top 20 rows\n",
      "\n"
     ]
    }
   ],
   "source": [
    "movieDataset.show()"
   ]
  },
  {
   "cell_type": "code",
   "execution_count": 11,
   "id": "28d4d58a-ac62-446b-b5b6-85d9b289a264",
   "metadata": {},
   "outputs": [],
   "source": [
    "#compute average rating for each movieID\n",
    "# _1 = movieid, _2=rating, _3=count\n",
    "averageRating = movieDataset.groupBy(\"_1\").avg(\"_2\")"
   ]
  },
  {
   "cell_type": "code",
   "execution_count": 12,
   "id": "1253aa52-c747-450f-994a-7b6f7b0c4c39",
   "metadata": {},
   "outputs": [
    {
     "data": {
      "text/plain": [
       "[Row(_1=474, avg(_2)=4.252577319587629),\n",
       " Row(_1=29, avg(_2)=2.6666666666666665),\n",
       " Row(_1=26, avg(_2)=3.452054794520548)]"
      ]
     },
     "execution_count": 12,
     "metadata": {},
     "output_type": "execute_result"
    }
   ],
   "source": [
    "#average rating for movieIds\n",
    "averageRating.take(3)"
   ]
  },
  {
   "cell_type": "code",
   "execution_count": 13,
   "id": "75c93f1e-3206-4974-8ffa-36abe8251404",
   "metadata": {},
   "outputs": [],
   "source": [
    "#compute the count\n",
    "counts = movieDataset.groupBy(\"_1\").count()"
   ]
  },
  {
   "cell_type": "code",
   "execution_count": 14,
   "id": "072ccd6f-2f30-4036-b3e7-d164fc06c18d",
   "metadata": {},
   "outputs": [
    {
     "data": {
      "text/plain": [
       "[Row(_1=474, count=194), Row(_1=29, count=114), Row(_1=26, count=73)]"
      ]
     },
     "execution_count": 14,
     "metadata": {},
     "output_type": "execute_result"
    }
   ],
   "source": [
    "counts.take(3)"
   ]
  },
  {
   "cell_type": "code",
   "execution_count": 15,
   "id": "4fe8ebbf-22b2-4c9b-9062-0b12e88bbad9",
   "metadata": {},
   "outputs": [],
   "source": [
    "averageAndcounts = counts.join(averageRating, \"_1\")"
   ]
  },
  {
   "cell_type": "code",
   "execution_count": 16,
   "id": "e7518bb7-4838-486a-b334-1a8cefcaee65",
   "metadata": {},
   "outputs": [
    {
     "data": {
      "text/plain": [
       "[Row(_1=474, count=194, avg(_2)=4.252577319587629),\n",
       " Row(_1=29, count=114, avg(_2)=2.6666666666666665)]"
      ]
     },
     "execution_count": 16,
     "metadata": {},
     "output_type": "execute_result"
    }
   ],
   "source": [
    "averageAndcounts.take(2)"
   ]
  },
  {
   "cell_type": "code",
   "execution_count": 17,
   "id": "a1d8245d-ecb4-4043-b8e4-9b6fa6a1736b",
   "metadata": {},
   "outputs": [],
   "source": [
    "# best movies\n",
    "top10 = averageAndcounts.orderBy((\"avg(_2)\"), ascending=[ 0]).take(10)"
   ]
  },
  {
   "cell_type": "code",
   "execution_count": 18,
   "id": "fb84098d-7d35-412b-977a-4650405a7fc1",
   "metadata": {},
   "outputs": [
    {
     "data": {
      "text/plain": [
       "[Row(_1=1536, count=1, avg(_2)=5.0),\n",
       " Row(_1=1189, count=3, avg(_2)=5.0),\n",
       " Row(_1=1599, count=1, avg(_2)=5.0),\n",
       " Row(_1=1293, count=3, avg(_2)=5.0),\n",
       " Row(_1=814, count=1, avg(_2)=5.0),\n",
       " Row(_1=1653, count=1, avg(_2)=5.0),\n",
       " Row(_1=1500, count=2, avg(_2)=5.0),\n",
       " Row(_1=1122, count=1, avg(_2)=5.0),\n",
       " Row(_1=1201, count=1, avg(_2)=5.0),\n",
       " Row(_1=1467, count=2, avg(_2)=5.0)]"
      ]
     },
     "execution_count": 18,
     "metadata": {},
     "output_type": "execute_result"
    }
   ],
   "source": [
    "top10"
   ]
  },
  {
   "cell_type": "code",
   "execution_count": 19,
   "id": "deca3bd0-2c40-4e6e-9650-c537abbf6f39",
   "metadata": {},
   "outputs": [
    {
     "name": "stdout",
     "output_type": "stream",
     "text": [
      "Aiqing wansui (1994) 5.0\n",
      "Prefontaine (1997) 5.0\n",
      "Someone Else's America (1995) 5.0\n",
      "Star Kid (1997) 5.0\n",
      "Great Day in Harlem, A (1994) 5.0\n",
      "Entertaining Angels: The Dorothy Day Story (1996) 5.0\n",
      "Santa with Muscles (1996) 5.0\n",
      "They Made Me a Criminal (1939) 5.0\n",
      "Marlene Dietrich: Shadow and Light (1996)  5.0\n",
      "Saint of Fort Washington, The (1993) 5.0\n"
     ]
    }
   ],
   "source": [
    "# searching for key i.e movie[0] in movieNames dictionary and its corresponding average rating\n",
    "for movie in top10:\n",
    "    print(movieNames[movie[0]], movie[2])"
   ]
  },
  {
   "cell_type": "code",
   "execution_count": 20,
   "id": "7decceaa-4246-4893-8689-2b80eb173dc0",
   "metadata": {},
   "outputs": [
    {
     "data": {
      "text/plain": [
       "[Row(_1=1571, count=1, avg(_2)=1.0),\n",
       " Row(_1=858, count=3, avg(_2)=1.0),\n",
       " Row(_1=1570, count=1, avg(_2)=1.0),\n",
       " Row(_1=830, count=1, avg(_2)=1.0),\n",
       " Row(_1=439, count=5, avg(_2)=1.0),\n",
       " Row(_1=1343, count=1, avg(_2)=1.0),\n",
       " Row(_1=1559, count=1, avg(_2)=1.0),\n",
       " Row(_1=1374, count=2, avg(_2)=1.0),\n",
       " Row(_1=1548, count=1, avg(_2)=1.0),\n",
       " Row(_1=852, count=1, avg(_2)=1.0)]"
      ]
     },
     "execution_count": 20,
     "metadata": {},
     "output_type": "execute_result"
    }
   ],
   "source": [
    "# worst movies\n",
    "last10 = averageAndcounts.orderBy((\"avg(_2)\"), ascending=[1]).take(10)\n",
    "last10"
   ]
  },
  {
   "cell_type": "code",
   "execution_count": 25,
   "id": "aa79aff6-96ae-4344-ab2b-f37c7ae19f0f",
   "metadata": {},
   "outputs": [
    {
     "name": "stdout",
     "output_type": "stream",
     "text": [
      "Touki Bouki (Journey of the Hyena) (1973) 1 1.0\n",
      "Amityville: Dollhouse (1996) 3 1.0\n",
      "Quartier Mozart (1992) 1 1.0\n",
      "Power 98 (1995) 1 1.0\n",
      "Amityville: A New Generation (1993) 5 1.0\n",
      "Lotto Land (1995) 1 1.0\n",
      "Hostile Intentions (1994) 1 1.0\n",
      "Falling in Love Again (1980) 2 1.0\n",
      "The Courtyard (1995) 1 1.0\n",
      "Bloody Child, The (1996) 1 1.0\n"
     ]
    }
   ],
   "source": [
    "for movie in last10:\n",
    "    print(movieNames[movie[0]], movie[1], movie[2])"
   ]
  },
  {
   "cell_type": "code",
   "execution_count": 89,
   "id": "e88cf5a7-3862-448e-8283-0d2bbc07021b",
   "metadata": {},
   "outputs": [],
   "source": [
    "sparkSession.stop()"
   ]
  },
  {
   "cell_type": "code",
   "execution_count": null,
   "id": "688501ec-436a-4303-8f55-76cdbdd00384",
   "metadata": {},
   "outputs": [],
   "source": []
  }
 ],
 "metadata": {
  "kernelspec": {
   "display_name": "Python 3.9.10 64-bit",
   "language": "python",
   "name": "python3910jvsc74a57bd0b0fa6594d8f4cbf19f97940f81e996739fb7646882a419484c72d19e05852a7e"
  },
  "language_info": {
   "codemirror_mode": {
    "name": "ipython",
    "version": 3
   },
   "file_extension": ".py",
   "mimetype": "text/x-python",
   "name": "python",
   "nbconvert_exporter": "python",
   "pygments_lexer": "ipython3",
   "version": "3.9.10"
  }
 },
 "nbformat": 4,
 "nbformat_minor": 5
}
