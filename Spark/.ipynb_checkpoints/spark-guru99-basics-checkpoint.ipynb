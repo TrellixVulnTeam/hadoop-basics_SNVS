{
 "cells": [
  {
   "cell_type": "code",
   "execution_count": 3,
   "id": "589d7786-9d11-4d61-9ca4-09a8d50eb42c",
   "metadata": {},
   "outputs": [],
   "source": [
    "import pyspark\n",
    "from pyspark import Row\n",
    "from pyspark import SQLContext\n",
    "from pyspark import SparkContext"
   ]
  },
  {
   "cell_type": "code",
   "execution_count": 4,
   "id": "f9e3a7ee-fe80-4dc8-9fd7-706f58791159",
   "metadata": {},
   "outputs": [
    {
     "name": "stderr",
     "output_type": "stream",
     "text": [
      "22/01/24 13:21:44 WARN Utils: Your hostname, Ayushmans-MacBook-Air.local resolves to a loopback address: 127.0.0.1; using 192.168.1.236 instead (on interface en0)\n",
      "22/01/24 13:21:44 WARN Utils: Set SPARK_LOCAL_IP if you need to bind to another address\n",
      "Using Spark's default log4j profile: org/apache/spark/log4j-defaults.properties\n",
      "Setting default log level to \"WARN\".\n",
      "To adjust logging level use sc.setLogLevel(newLevel). For SparkR, use setLogLevel(newLevel).\n",
      "22/01/24 13:21:44 WARN NativeCodeLoader: Unable to load native-hadoop library for your platform... using builtin-java classes where applicable\n",
      "22/01/24 13:21:45 WARN Utils: Service 'SparkUI' could not bind on port 4040. Attempting port 4041.\n"
     ]
    }
   ],
   "source": [
    "sc = SparkContext()"
   ]
  },
  {
   "cell_type": "code",
   "execution_count": 5,
   "id": "321fef69-47b8-461e-b1d7-71bb359d082c",
   "metadata": {},
   "outputs": [],
   "source": [
    "arr = [1,2,3,4,5]"
   ]
  },
  {
   "cell_type": "code",
   "execution_count": 6,
   "id": "df3d19c6-01f8-40b2-97bf-b3bdcc78b822",
   "metadata": {},
   "outputs": [],
   "source": [
    "rdd_arr = sc.parallelize(arr)"
   ]
  },
  {
   "cell_type": "code",
   "execution_count": 7,
   "id": "42fdfaeb-779a-43fa-aab0-6626c1cb8f21",
   "metadata": {},
   "outputs": [
    {
     "data": {
      "text/plain": [
       "[1, 2]"
      ]
     },
     "execution_count": 7,
     "metadata": {},
     "output_type": "execute_result"
    }
   ],
   "source": [
    "rdd_arr.take(2)"
   ]
  },
  {
   "cell_type": "code",
   "execution_count": 8,
   "id": "c9c3d04c-102f-43cf-8e54-660a2197cc8e",
   "metadata": {},
   "outputs": [
    {
     "name": "stdout",
     "output_type": "stream",
     "text": [
      "1\n",
      "4\n",
      "9\n",
      "16\n",
      "25\n"
     ]
    }
   ],
   "source": [
    "sqrd = rdd_arr.map(lambda x: x*x).collect()\n",
    "for i in sqrd:\n",
    "    print(i)"
   ]
  },
  {
   "cell_type": "code",
   "execution_count": 10,
   "id": "ac76d41f-6b7f-4014-8cbb-05e33b6af955",
   "metadata": {},
   "outputs": [
    {
     "name": "stderr",
     "output_type": "stream",
     "text": [
      "/Users/ayusman/migrate/hadoop/myvenv/lib/python3.9/site-packages/pyspark/sql/context.py:77: FutureWarning: Deprecated in 3.0.0. Use SparkSession.builder.getOrCreate() instead.\n",
      "  warnings.warn(\n"
     ]
    }
   ],
   "source": [
    "sqlContext = SQLContext(sc)"
   ]
  },
  {
   "cell_type": "code",
   "execution_count": 11,
   "id": "3dca9194-4387-4a94-90cc-2954e5cb73ff",
   "metadata": {},
   "outputs": [],
   "source": [
    "list1 = [('Ram', 21), ('Ram2', 25), ('Shyam', 21), ('Hari', 23)]"
   ]
  },
  {
   "cell_type": "code",
   "execution_count": 12,
   "id": "67c89fc6-8155-478c-b7c7-6bdbf767379e",
   "metadata": {},
   "outputs": [],
   "source": [
    "rd_list1 = sc.parallelize(list1)"
   ]
  },
  {
   "cell_type": "code",
   "execution_count": 17,
   "id": "76f1397f-c982-4b2a-ba87-fd30cdb2ff59",
   "metadata": {},
   "outputs": [],
   "source": [
    "ds_ppl = rd_list1.map(lambda x: Row(name = x[0], age = x[1]))"
   ]
  },
  {
   "cell_type": "code",
   "execution_count": 18,
   "id": "aa814139-9f8f-407a-8ac4-b6f2f2a9a576",
   "metadata": {},
   "outputs": [],
   "source": [
    "df_ppl = sqlContext.createDataFrame(ds_ppl)"
   ]
  },
  {
   "cell_type": "code",
   "execution_count": 20,
   "id": "94c2eb9f-1517-4d60-97e7-3b171edf3a2a",
   "metadata": {},
   "outputs": [
    {
     "data": {
      "text/plain": [
       "[Row(name='Ram', age=21), Row(name='Ram2', age=25)]"
      ]
     },
     "execution_count": 20,
     "metadata": {},
     "output_type": "execute_result"
    }
   ],
   "source": [
    "df_ppl.take(2)"
   ]
  },
  {
   "cell_type": "code",
   "execution_count": 21,
   "id": "093b9f94-f69e-45cd-ad00-079203e69a21",
   "metadata": {},
   "outputs": [
    {
     "name": "stdout",
     "output_type": "stream",
     "text": [
      "root\n",
      " |-- name: string (nullable = true)\n",
      " |-- age: long (nullable = true)\n",
      "\n"
     ]
    }
   ],
   "source": [
    "df_ppl.printSchema()"
   ]
  },
  {
   "cell_type": "code",
   "execution_count": null,
   "id": "4e28ea79-bc7b-44a5-b821-c92a56d25919",
   "metadata": {},
   "outputs": [],
   "source": []
  }
 ],
 "metadata": {
  "kernelspec": {
   "display_name": "Python 3 (ipykernel)",
   "language": "python",
   "name": "python3"
  },
  "language_info": {
   "codemirror_mode": {
    "name": "ipython",
    "version": 3
   },
   "file_extension": ".py",
   "mimetype": "text/x-python",
   "name": "python",
   "nbconvert_exporter": "python",
   "pygments_lexer": "ipython3",
   "version": "3.9.10"
  }
 },
 "nbformat": 4,
 "nbformat_minor": 5
}
