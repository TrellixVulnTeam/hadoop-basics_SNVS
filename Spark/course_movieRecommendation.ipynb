{
 "cells": [
  {
   "cell_type": "code",
   "execution_count": 19,
   "id": "8d63e735-f13e-45ec-a9a5-40ef3b078f92",
   "metadata": {},
   "outputs": [],
   "source": [
    "from pyspark.sql import SparkSession, Row, functions\n",
    "from pyspark.ml.recommendation import ALS\n",
    "from pyspark.sql.functions import lit"
   ]
  },
  {
   "cell_type": "code",
   "execution_count": 20,
   "id": "aef43c8b-5cff-4024-a11b-edf6465957b2",
   "metadata": {},
   "outputs": [],
   "source": [
    "def loadMovieNames():\n",
    "    movieNames = {}\n",
    "    with open(\"/Users/ayusman/migrate/hadooop/hadoop-basics/ml-100k/u.item\", encoding = \"ISO-8859-1\") as f:\n",
    "        for line in f:\n",
    "            fields = line.split('|')\n",
    "            movieNames[int(fields[0])] = fields[1]\n",
    "    return movieNames"
   ]
  },
  {
   "cell_type": "code",
   "execution_count": 44,
   "id": "d72ac834-a407-413f-96fa-7abd07ab073f",
   "metadata": {},
   "outputs": [],
   "source": [
    "# Convert u.data lines into (userID, movieID, rating) rows\n",
    "def parseInput(line):\n",
    "    fields = line.split()\n",
    "    return Row(userID = int(fields[0]), movieID = int(fields[1]), rating = float(fields[2]))"
   ]
  },
  {
   "cell_type": "code",
   "execution_count": 45,
   "id": "f143dd4c-2fb4-41f2-938e-a4ccee3689cf",
   "metadata": {},
   "outputs": [],
   "source": [
    "# Create a SparkSession (the config bit is only for Windows!)\n",
    "spark = SparkSession.builder.appName(\"MovieRecs\").getOrCreate()\n",
    "\n",
    "# This line is necessary on HDP 2.6.5:\n",
    "spark.conf.set(\"spark.sql.crossJoin.enabled\", \"true\")\n",
    "\n",
    "# Load up our movie ID -> name dictionary\n",
    "movieNames = loadMovieNames()\n",
    "\n",
    "# Get the raw data\n",
    "lines = spark.sparkContext.textFile('/Users/ayusman/migrate/hadooop/hadoop-basics/ml-100k/u.data')"
   ]
  },
  {
   "cell_type": "code",
   "execution_count": 46,
   "id": "3d55921e-f2d2-415a-b54e-4cac7e0b555b",
   "metadata": {},
   "outputs": [
    {
     "data": {
      "text/plain": [
       "[Row(userID=196, movieID=242, rating=3.0),\n",
       " Row(userID=186, movieID=302, rating=3.0)]"
      ]
     },
     "execution_count": 46,
     "metadata": {},
     "output_type": "execute_result"
    }
   ],
   "source": [
    "# Convert it to a RDD of Row objects with (userID, movieID, rating)\n",
    "ratingsRDD = lines.map(parseInput)\n",
    "ratingsRDD.take(2)"
   ]
  },
  {
   "cell_type": "code",
   "execution_count": 47,
   "id": "d5e927af-6e2e-45ad-be27-0e5a56432703",
   "metadata": {},
   "outputs": [],
   "source": [
    "# Convert to a DataFrame and cache it\n",
    "ratings = spark.createDataFrame(ratingsRDD).cache()"
   ]
  },
  {
   "cell_type": "code",
   "execution_count": 49,
   "id": "944b37ed-8666-4cb3-82db-8726ad1d88b7",
   "metadata": {},
   "outputs": [],
   "source": [
    "# Create an ALS collaborative filtering model from the complete data set\n",
    "als = ALS(maxIter=5, regParam=0.01, userCol=\"userID\", itemCol=\"movieID\", ratingCol=\"rating\")\n",
    "model = als.fit(ratings)"
   ]
  },
  {
   "cell_type": "code",
   "execution_count": 60,
   "id": "f885d736-9624-4d1e-9d69-da5ec7c2c33c",
   "metadata": {},
   "outputs": [
    {
     "name": "stdout",
     "output_type": "stream",
     "text": [
      "\n",
      "Ratings for user ID 1:\n",
      "Three Colors: White (1994) 4.0\n",
      "Grand Day Out, A (1992) 3.0\n",
      "Desperado (1995) 4.0\n",
      "Glengarry Glen Ross (1992) 4.0\n",
      "Angels and Insects (1995) 4.0\n",
      "Groundhog Day (1993) 5.0\n",
      "Delicatessen (1991) 5.0\n",
      "Hunt for Red October, The (1990) 4.0\n",
      "Dirty Dancing (1987) 2.0\n",
      "Rock, The (1996) 3.0\n",
      "Ed Wood (1994) 4.0\n"
     ]
    }
   ],
   "source": [
    "#Print out 10 ratings from user 1:\n",
    "count = 0\n",
    "print(\"\\nRatings for user ID 1:\")\n",
    "userRatings = ratings.filter(\"userID = 1\")\n",
    "for rating in userRatings.collect():\n",
    "    print(movieNames[rating['movieID']], rating['rating'])\n",
    "    count += 1\n",
    "    if count >10 :\n",
    "        break"
   ]
  },
  {
   "cell_type": "code",
   "execution_count": 65,
   "id": "7dd23253-d586-4dae-a5b7-77061ff2405c",
   "metadata": {},
   "outputs": [
    {
     "name": "stdout",
     "output_type": "stream",
     "text": [
      "\n",
      "Top 20 recommendations:\n"
     ]
    }
   ],
   "source": [
    "# Find movies rated more than 100 times\n",
    "ratingCounts = ratings.groupBy(\"movieID\").count().filter(\"count > 100\")\n",
    "# Construct a \"test\" dataframe for user 1 with every movie rated more than 100 times\n",
    "popularMovies = ratingCounts.select(\"movieID\").withColumn('userID', lit(1))"
   ]
  },
  {
   "cell_type": "code",
   "execution_count": 66,
   "id": "34859b79-7c5c-4cfd-82bb-ba4f3bdb49b5",
   "metadata": {},
   "outputs": [],
   "source": [
    "# Run our model on that list of popular movies for user ID 1\n",
    "recommendations = model.transform(popularMovies)"
   ]
  },
  {
   "cell_type": "code",
   "execution_count": 68,
   "id": "3ccb6cc4-c8e7-4092-be5a-566e6f24af99",
   "metadata": {},
   "outputs": [],
   "source": [
    "# Get the top 20 movies with the highest predicted rating for this user\n",
    "topRecommendations = recommendations.sort(recommendations.prediction.desc()).take(20)"
   ]
  },
  {
   "cell_type": "code",
   "execution_count": 70,
   "id": "06fd3380-3e52-4095-b987-60d43d294ce9",
   "metadata": {},
   "outputs": [
    {
     "name": "stdout",
     "output_type": "stream",
     "text": [
      "\n",
      "Top 20 recommendations:\n",
      "12 Angry Men (1957) 4.923419952392578\n",
      "Godfather, The (1972) 4.886929035186768\n",
      "Philadelphia Story, The (1940) 4.861466884613037\n",
      "Citizen Kane (1941) 4.832269668579102\n",
      "Swingers (1996) 4.802018165588379\n",
      "Casablanca (1942) 4.793004989624023\n",
      "Chinatown (1974) 4.7650885581970215\n",
      "Being There (1979) 4.757648468017578\n",
      "Monty Python's Life of Brian (1979) 4.748608589172363\n",
      "Clerks (1994) 4.732601642608643\n",
      "One Flew Over the Cuckoo's Nest (1975) 4.73155403137207\n",
      "Secrets & Lies (1996) 4.730564594268799\n",
      "Big Night (1996) 4.722156524658203\n",
      "Rear Window (1954) 4.710968971252441\n",
      "Leaving Las Vegas (1995) 4.7042741775512695\n",
      "Dr. Strangelove or: How I Learned to Stop Worrying and Love the Bomb (1963) 4.7017083168029785\n",
      "Sling Blade (1996) 4.6992998123168945\n",
      "Close Shave, A (1995) 4.693426132202148\n",
      "Fantasia (1940) 4.6842851638793945\n",
      "Monty Python and the Holy Grail (1974) 4.676304817199707\n"
     ]
    }
   ],
   "source": [
    "print(\"\\nTop 20 recommendations:\")\n",
    "for recommendation in topRecommendations:\n",
    "    print (movieNames[recommendation['movieID']], recommendation['prediction'])\n"
   ]
  },
  {
   "cell_type": "code",
   "execution_count": 72,
   "id": "59dd651c-5058-40c5-b5e2-4009b7d30b02",
   "metadata": {},
   "outputs": [
    {
     "data": {
      "text/plain": [
       "[Row(movieID=178, userID=1, prediction=4.923419952392578),\n",
       " Row(movieID=127, userID=1, prediction=4.886929035186768),\n",
       " Row(movieID=478, userID=1, prediction=4.861466884613037),\n",
       " Row(movieID=134, userID=1, prediction=4.832269668579102),\n",
       " Row(movieID=150, userID=1, prediction=4.802018165588379),\n",
       " Row(movieID=483, userID=1, prediction=4.793004989624023),\n",
       " Row(movieID=654, userID=1, prediction=4.7650885581970215),\n",
       " Row(movieID=663, userID=1, prediction=4.757648468017578),\n",
       " Row(movieID=154, userID=1, prediction=4.748608589172363),\n",
       " Row(movieID=42, userID=1, prediction=4.732601642608643),\n",
       " Row(movieID=357, userID=1, prediction=4.73155403137207),\n",
       " Row(movieID=285, userID=1, prediction=4.730564594268799),\n",
       " Row(movieID=137, userID=1, prediction=4.722156524658203),\n",
       " Row(movieID=603, userID=1, prediction=4.710968971252441),\n",
       " Row(movieID=276, userID=1, prediction=4.7042741775512695),\n",
       " Row(movieID=474, userID=1, prediction=4.7017083168029785),\n",
       " Row(movieID=223, userID=1, prediction=4.6992998123168945),\n",
       " Row(movieID=408, userID=1, prediction=4.693426132202148),\n",
       " Row(movieID=432, userID=1, prediction=4.6842851638793945),\n",
       " Row(movieID=168, userID=1, prediction=4.676304817199707)]"
      ]
     },
     "execution_count": 72,
     "metadata": {},
     "output_type": "execute_result"
    }
   ],
   "source": [
    "topRecommendations"
   ]
  },
  {
   "cell_type": "code",
   "execution_count": null,
   "id": "43ca11c0-3b31-4ac8-b1b2-005e996e56a6",
   "metadata": {},
   "outputs": [],
   "source": []
  },
  {
   "cell_type": "code",
   "execution_count": null,
   "id": "5ae6cb1e-0c25-4888-8de1-9ca47c6a3f6c",
   "metadata": {},
   "outputs": [],
   "source": []
  }
 ],
 "metadata": {
  "kernelspec": {
   "display_name": "Python 3.9.10 64-bit",
   "language": "python",
   "name": "python3910jvsc74a57bd0b0fa6594d8f4cbf19f97940f81e996739fb7646882a419484c72d19e05852a7e"
  },
  "language_info": {
   "codemirror_mode": {
    "name": "ipython",
    "version": 3
   },
   "file_extension": ".py",
   "mimetype": "text/x-python",
   "name": "python",
   "nbconvert_exporter": "python",
   "pygments_lexer": "ipython3",
   "version": "3.9.10"
  }
 },
 "nbformat": 4,
 "nbformat_minor": 5
}
